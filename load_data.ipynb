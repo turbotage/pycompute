{
 "cells": [
  {
   "attachments": {},
   "cell_type": "markdown",
   "metadata": {},
   "source": [
    "Imports"
   ]
  },
  {
   "cell_type": "code",
   "execution_count": 1,
   "metadata": {},
   "outputs": [],
   "source": [
    "from dipy.data import get_fnames\n",
    "from dipy.io.image import load_nifti_data, save_nifti, load_nifti\n",
    "from dipy.io.gradients import read_bvals_bvecs\n",
    "\n",
    "import numpy as np\n"
   ]
  },
  {
   "attachments": {},
   "cell_type": "markdown",
   "metadata": {},
   "source": [
    "Save data, bvals"
   ]
  },
  {
   "cell_type": "code",
   "execution_count": 7,
   "metadata": {},
   "outputs": [],
   "source": [
    "fraw,fbval,fbvec = get_fnames('ivim')\n",
    "\n",
    "data = np.float32(load_nifti_data(fraw))\n",
    "bvals, bvecs = read_bvals_bvecs(fbval, fbvec)\n",
    "bvals = np.float32(bvals)\n",
    "\n",
    "with open('data_ivim.npy', 'wb') as f:\n",
    "    np.save(f, data)\n",
    "\n",
    "with open('bvals_ivim.npy', 'wb') as f:\n",
    "    np.save(f, bvals)"
   ]
  },
  {
   "attachments": {},
   "cell_type": "markdown",
   "metadata": {},
   "source": [
    "Load nifti pars from dipy and save as numpy array"
   ]
  },
  {
   "cell_type": "code",
   "execution_count": 6,
   "metadata": {},
   "outputs": [],
   "source": [
    "pars = np.float32(load_nifti_data('pars_dipy.nii'))\n",
    "\n",
    "with open('pars_ivim_dipytrr.npy', 'wb') as f:\n",
    "    np.save(f, pars)"
   ]
  },
  {
   "cell_type": "markdown",
   "metadata": {},
   "source": []
  },
  {
   "cell_type": "code",
   "execution_count": 4,
   "metadata": {},
   "outputs": [],
   "source": [
    "i = 0"
   ]
  }
 ],
 "metadata": {
  "kernelspec": {
   "display_name": "base",
   "language": "python",
   "name": "python3"
  },
  "language_info": {
   "codemirror_mode": {
    "name": "ipython",
    "version": 3
   },
   "file_extension": ".py",
   "mimetype": "text/x-python",
   "name": "python",
   "nbconvert_exporter": "python",
   "pygments_lexer": "ipython3",
   "version": "3.9.12"
  },
  "orig_nbformat": 4,
  "vscode": {
   "interpreter": {
    "hash": "b3bb5964cf8a6d04792817c6907804eb71f3bdbeef43d1e88a7840e7694c7675"
   }
  }
 },
 "nbformat": 4,
 "nbformat_minor": 2
}
