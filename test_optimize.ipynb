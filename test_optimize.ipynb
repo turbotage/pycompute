{
 "cells": [
  {
   "cell_type": "code",
   "execution_count": null,
   "metadata": {},
   "outputs": [],
   "source": [
    "# imports\n",
    "from matplotlib import pyplot as plt\n",
    "import numpy as np\n",
    "import math\n",
    "\n",
    "import cupy as cp\n",
    "\n",
    "from mpl_toolkits.mplot3d import Axes3D\n",
    "\n",
    "from scipy import signal, misc\n"
   ]
  },
  {
   "cell_type": "markdown",
   "metadata": {},
   "source": [
    "# Create - Data, Consts, Pars, Lower Bound, Upper Bound"
   ]
  },
  {
   "cell_type": "code",
   "execution_count": null,
   "metadata": {},
   "outputs": [],
   "source": [
    "from dipy.data import get_fnames\n",
    "from dipy.io.image import load_nifti_data, save_nifti, load_nifti\n",
    "from dipy.io.gradients import read_bvals_bvecs\n",
    "from dipy.core.gradients import gradient_table\n",
    "\n",
    "fraw,fbval,fbvec = get_fnames('ivim')\n",
    "\n",
    "_, affine = load_nifti(fraw)\n",
    "data = np.float32(load_nifti_data(fraw))\n",
    "bvals, bvecs = read_bvals_bvecs(fbval, fbvec)\n",
    "gtab = gradient_table(bvals, bvecs, b0_threshold=0)\n",
    "\n",
    "data_shape = data.shape\n",
    "nvoxels = data_shape[0]*data_shape[1]*data_shape[2]\n",
    "ndata = data_shape[3]\n",
    "\n",
    "data = np.float32(data.reshape(1, data.size))\n",
    "consts = np.float32(np.reshape(np.tile(bvals, nvoxels), (1,nvoxels*len(bvals))))\n",
    "\n",
    "redo_pars_t = False\n",
    "if redo_pars_t:\n",
    "\n",
    "    from dipy.reconst.ivim import IvimModel\n",
    "    ivimmodel = IvimModel(gtab, fit_method='trr')\n",
    "\n",
    "    ivimfit = ivimmodel.fit(data)\n",
    "\n",
    "    pars_t = ivimfit.model_params\n",
    "\n",
    "    save_nifti('pars_dipy.nii', pars_t, affine)\n",
    "\n",
    "pars_dipy, affine = load_nifti('pars_dipy.nii')\n",
    "pars_dipy = np.float32(pars_dipy)\n",
    "\n",
    "lower_bound = np.float32(np.ascontiguousarray(\n",
    "                np.tile(\n",
    "                    np.array([np.finfo(np.float32).min / 2, 0.0, 0.0, 0.0]), (data.shape[1],1)).transpose()))\n",
    "\n",
    "upper_bound = np.float32(np.ascontiguousarray(\n",
    "                np.tile(\n",
    "                    np.array([np.finfo(np.float32).max / 2, 1.0, 1.0, 1.0]), (data.shape[1],1)).transpose()))\n"
   ]
  },
  {
   "cell_type": "markdown",
   "metadata": {},
   "source": [
    "# Create guess parameters from dipys by convolving"
   ]
  },
  {
   "cell_type": "code",
   "execution_count": null,
   "metadata": {},
   "outputs": [],
   "source": [
    "\n",
    "kernel_size = 25\n",
    "avg_kernel = np.ones((kernel_size,kernel_size))\n",
    "\n",
    "pars = np.empty(pars_dipy.shape, pars_dipy.dtype)\n",
    "\n",
    "for i in range(0,pars.shape[2]):\n",
    "    for j in range(0,4):\n",
    "        pars[:,:,i,j] = signal.convolve2d(pars_dipy[:,:,i,j], avg_kernel, boundary='symm', mode='same')\n"
   ]
  },
  {
   "cell_type": "code",
   "execution_count": null,
   "metadata": {},
   "outputs": [],
   "source": [
    "\n",
    "print_S0 = False\n",
    "print_f = False\n",
    "print_D1 = False\n",
    "print_D2 = True\n",
    "\n",
    "if print_S0:\n",
    "\tfig1 = plt.figure()\n",
    "\tax1 = fig1.add_axes([0,0,1,1])\n",
    "\tax1.imshow(pars_dipy[:,:,25,0])\n",
    "\tax1.set_title('S0')\n",
    "\n",
    "\tfig2 = plt.figure()\n",
    "\tax2 = fig2.add_axes([0,0,1,1])\n",
    "\tax2.imshow(pars[:,:,25,0])\n",
    "\tax2.set_title('S0 - Avg')\n",
    "\n",
    "if print_f:\n",
    "\tfig1 = plt.figure()\n",
    "\tax1 = fig1.add_axes([0,0,1,1])\n",
    "\tax1.imshow(pars_dipy[:,:,25,1])\n",
    "\tax1.set_title('f')\n",
    "\n",
    "\tfig2 = plt.figure()\n",
    "\tax2 = fig2.add_axes([0,0,1,1])\n",
    "\tax2.imshow(pars[:,:,25,1])\n",
    "\tax2.set_title('f - Avg')\n",
    "\n",
    "if print_D1:\n",
    "\tfig1 = plt.figure()\n",
    "\tax1 = fig1.add_axes([0,0,1,1])\n",
    "\tax1.imshow(pars_dipy[:,:,25,2])\n",
    "\tax1.set_title('D1')\n",
    "\n",
    "\tfig2 = plt.figure()\n",
    "\tax2 = fig2.add_axes([0,0,1,2])\n",
    "\tax2.imshow(pars[:,:,25,2])\n",
    "\tax2.set_title('D1 - Avg')\n",
    "\n",
    "if print_D2:\n",
    "\tfig1 = plt.figure()\n",
    "\tax1 = fig1.add_axes([0,0,1,1])\n",
    "\tax1.imshow(pars_dipy[:,:,25,3])\n",
    "\tax1.set_title('D2')\n",
    "\n",
    "\tfig2 = plt.figure()\n",
    "\tax2 = fig2.add_axes([0,0,1,2])\n",
    "\tax2.imshow(pars[:,:,25,3])\n",
    "\tax2.set_title('D2 - Avg')\n"
   ]
  },
  {
   "cell_type": "code",
   "execution_count": null,
   "metadata": {},
   "outputs": [],
   "source": [
    "pars = np.reshape(pars, (4, nvoxels))"
   ]
  },
  {
   "cell_type": "code",
   "execution_count": null,
   "metadata": {},
   "outputs": [],
   "source": [
    "from cuda.lsqnonlin import SecondOrderLevenbergMarquardt\n",
    "\n",
    "expr = 'S0*(f*exp(-b*D_1)+(1-f)*exp(-b*D_2))'\n",
    "pars_str = ['S0', 'f', 'D_1', 'D_2']\n",
    "consts_str = ['b']\n",
    "\n",
    "nchunks = 50\n",
    "data_chunk_size = math.ceil(data.shape[1] / nchunks)\n",
    "\n",
    "\n",
    "for i in range(0,1):\n",
    "\n",
    "    parscu = cp.asarray(pars[:,i*data_chunk_size:(i+1)*data_chunk_size])\n",
    "    constscu = cp.asarray(data[:,i*data_chunk_size*ndata:(i+1)*data_chunk_size*ndata])\n",
    "    datacu = cp.asarray(data[:,i*data_chunk_size*ndata:(i+1)*data_chunk_size*ndata])\n",
    "    lower_bound_cu = cp.asarray(lower_bound[:,i*data_chunk_size:(i+1)*data_chunk_size])\n",
    "    upper_bound_cu = cp.asarray(upper_bound[:,i*data_chunk_size:(i+1)*data_chunk_size])\n",
    "\n",
    "    solm = SecondOrderLevenbergMarquardt(expr, pars_str, consts_str, parscu, constscu, datacu, lower_bound_cu, upper_bound_cu)\n",
    "    solm.run(10, 1e-5)\n"
   ]
  }
 ],
 "metadata": {
  "kernelspec": {
   "display_name": "Python 3.9.10 64-bit",
   "language": "python",
   "name": "python3"
  },
  "language_info": {
   "codemirror_mode": {
    "name": "ipython",
    "version": 3
   },
   "file_extension": ".py",
   "mimetype": "text/x-python",
   "name": "python",
   "nbconvert_exporter": "python",
   "pygments_lexer": "ipython3",
   "version": "3.9.10"
  },
  "orig_nbformat": 4,
  "vscode": {
   "interpreter": {
    "hash": "9b4d75ac280b6c7c3aa43866cb82dc88915409b55fec83a093dd0284cb58708e"
   }
  }
 },
 "nbformat": 4,
 "nbformat_minor": 2
}
