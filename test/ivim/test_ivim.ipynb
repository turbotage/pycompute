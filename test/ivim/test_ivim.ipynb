{
 "cells": [
  {
   "attachments": {},
   "cell_type": "markdown",
   "metadata": {},
   "source": [
    "### External imports"
   ]
  },
  {
   "cell_type": "code",
   "execution_count": 1,
   "metadata": {},
   "outputs": [],
   "source": [
    "#%matplotlib widget\n",
    "\n",
    "# imports\n",
    "import sys\n",
    "import os\n",
    "sys.path.append(os.path.join(os.path.dirname(''), '..'))\n",
    "from testrun import test_runner\n",
    "test_runner()\n",
    "\n",
    "\n",
    "import numpy as np\n",
    "from numpy.lib.stride_tricks import as_strided\n",
    "import cupy as cp\n",
    "from scipy import signal, misc\n",
    "\n",
    "import math\n",
    "import time\n",
    "import importlib\n",
    "\n",
    "from matplotlib import pyplot as plt\n",
    "from mpl_toolkits.mplot3d import Axes3D\n"
   ]
  },
  {
   "attachments": {},
   "cell_type": "markdown",
   "metadata": {},
   "source": [
    "### Internal Imports"
   ]
  },
  {
   "cell_type": "code",
   "execution_count": 2,
   "metadata": {},
   "outputs": [],
   "source": [
    "from pycompute.plot import plot_utility as pu"
   ]
  },
  {
   "attachments": {},
   "cell_type": "markdown",
   "metadata": {},
   "source": [
    "### Create - Data, Consts, Pars, Lower Bound, Upper Bound"
   ]
  },
  {
   "cell_type": "code",
   "execution_count": 3,
   "metadata": {},
   "outputs": [],
   "source": [
    "nparam = 4\n",
    "\n",
    "slice_start = 15\n",
    "slice_stop = 35\n",
    "\n",
    "# Data\n",
    "data = None\n",
    "with open('data_ivim.npy', 'rb') as f:\n",
    "    data = np.load(f)[:,:,slice_start:slice_stop,:]\n",
    "data = np.nan_to_num(data, posinf=0.0, neginf=0.0)\n",
    "\n",
    "nvoxels = data.shape[0] * data.shape[1] * data.shape[2]\n",
    "ndata = data.shape[3]\n",
    "data_flat = np.transpose(data, (3,0,1,2)).flatten().reshape((ndata,nvoxels), order='C')\n",
    "#   data_flat = np.tile(np.reshape(np.array([908.02686, 905.39154, 906.08997, 700.7829, 753.0848, 859.9136,\n",
    "#  \t   870.48846, 755.96893, 617.3499, 566.2044 , 746.62067, 662.47424,\n",
    "#  \t   628.8806, 459.7746 , 643.30554, 318.58453, 416.5493, 348.34335,\n",
    "#  \t   411.74026, 284.17468, 290.30487], dtype=np.float32), (1,21)), (1,nvoxels))\n",
    "#data_flat[:,0] = np.array([908.02686, 905.39154, 906.08997, 700.7829, 753.0848, 859.9136,\n",
    "#  \t   870.48846, 755.96893, 617.3499, 566.2044 , 746.62067, 662.47424,\n",
    "#  \t   628.8806, 459.7746 , 643.30554, 318.58453, 416.5493, 348.34335,\n",
    "#  \t   411.74026, 284.17468, 290.30487], dtype=np.float32)\n",
    "\n",
    "# Consts\n",
    "consts = None\n",
    "with open('bvals_ivim.npy', 'rb') as f:\n",
    "    consts = np.load(f).astype(cp.float32)\n",
    "consts = np.reshape(consts, (1,21,1))\n",
    "consts_flat = np.tile(consts, (1, 1, nvoxels))\n",
    "\n",
    "# Pars\n",
    "pars_dipy = None\n",
    "with open('pars_ivim_dipytrr.npy', 'rb') as f:\n",
    "    pars_dipy = np.load(f)[:,:,slice_start:slice_stop,:]\n",
    "pars_dipy = np.nan_to_num(pars_dipy, posinf=0.0, neginf=0.0)\n",
    "\n",
    "#pars_flat = np.transpose(pars_dipy.copy(), (3,0,1,2)).reshape((nparam,nvoxels),order='C')\n",
    "pars_flat = cp.empty((nparam, nvoxels), dtype=np.float32)\n",
    "#pars_flat[0,:] = 10000 #pars_dipy[:,:,:,0].flatten()\n",
    "#pars_flat[1,:] = 0.5 #pars_dipy[:,:,:,1].flatten()\n",
    "#pars_flat[2,:] = 0.005 #pars_dipy[:,:,:,2].flatten()\n",
    "#pars_flat[3,:] = 0.0005 #pars_dipy[:,:,:,3].flatten()\n",
    "\n",
    "lower_bound = cp.empty((nparam, nvoxels), dtype=np.float32)\n",
    "lower_bound[0,:] = 0\n",
    "lower_bound[1,:] = 1e-3\n",
    "lower_bound[2,:] = 1e-6\n",
    "lower_bound[3,:] = 1e-8\n",
    "\n",
    "upper_bound = cp.empty((nparam, nvoxels), dtype=np.float32)\n",
    "upper_bound[0,:] = 20000\n",
    "upper_bound[1,:] = 0.999\n",
    "upper_bound[2,:] = 0.1\n",
    "upper_bound[3,:] = 0.02"
   ]
  },
  {
   "cell_type": "code",
   "execution_count": 4,
   "metadata": {},
   "outputs": [],
   "source": [
    "from pycompute.cuda import lsq as clsq\n",
    "from pycompute.cuda import lsqnonlin as cnlsq\n",
    "importlib.reload(clsq)\n",
    "\n",
    "\n",
    "lower_sol = clsq.bpolyfit(cp.array(-consts_flat[:,0:10,:]), cp.log(cp.array(data_flat[0:10,:])), 1, cp.float32)\n",
    "upper_sol = clsq.bpolyfit(cp.array(-consts_flat[:,15:,:]), cp.log(cp.array(data_flat[15:,:])), 1, cp.float32)\n",
    "\n",
    "lower_sol[0,:] = cp.exp(lower_sol[0,:])\n",
    "upper_sol[0,:] = cp.exp(upper_sol[0,:])\n",
    "\n",
    "pars_flat[0,:] = cp.nan_to_num(lower_sol[0,:], posinf=0.0, neginf=0.0)\n",
    "pars_flat[1,:] = cp.nan_to_num((1.0 - (upper_sol[0,:] / lower_sol[0,:])), posinf=0.0, neginf=0.0)\n",
    "pars_flat[2,:] = cp.nan_to_num(lower_sol[1,:], posinf=0.0, neginf=0.0)\n",
    "pars_flat[3,:] = cp.nan_to_num(upper_sol[1,:], posinf=0.0, neginf=0.0)\n",
    "\n",
    "pars_flat[0,:] = cp.clip(cp.asarray(pars_flat[0,:]), lower_bound[0,:], upper_bound[0,:])\n",
    "pars_flat[1,:] = cp.clip(cp.asarray(pars_flat[1,:]), lower_bound[1,:], upper_bound[1,:])\n",
    "pars_flat[2,:] = cp.clip(cp.asarray(pars_flat[2,:]), lower_bound[2,:], upper_bound[2,:])\n",
    "pars_flat[3,:] = cp.clip(cp.asarray(pars_flat[3,:]), lower_bound[3,:], upper_bound[3,:])\n"
   ]
  },
  {
   "cell_type": "code",
   "execution_count": 5,
   "metadata": {},
   "outputs": [],
   "source": [
    "plot_linearizations = False\n",
    "if plot_linearizations:\n",
    "    pu.plot_matrix(lower_sol[0,:].get().reshape((data.shape[0], data.shape[1], data.shape[2]))[:,:,0].get())\n",
    "    pu.plot_matrix(lower_sol[1,:].get().reshape((data.shape[0], data.shape[1], data.shape[2]))[:,:,0].get())\n",
    "    pu.plot_matrix(upper_sol[0,:].get().reshape((data.shape[0], data.shape[1], data.shape[2]))[:,:,0].get())\n",
    "    pu.plot_matrix(upper_sol[1,:].get().reshape((data.shape[0], data.shape[1], data.shape[2]))[:,:,0].get())"
   ]
  },
  {
   "cell_type": "code",
   "execution_count": 6,
   "metadata": {},
   "outputs": [],
   "source": [
    "plot_segmented = False\n",
    "if plot_segmented:\n",
    "    pu.plot_matrix(pars_flat[0,:].reshape((data.shape[0], data.shape[1], data.shape[2]))[:,:,0].get())\n",
    "    pu.plot_matrix(pars_flat[1,:].reshape((data.shape[0], data.shape[1], data.shape[2]))[:,:,0].get())\n",
    "    pu.plot_matrix(pars_flat[2,:].reshape((data.shape[0], data.shape[1], data.shape[2]))[:,:,0].get())\n",
    "    pu.plot_matrix(pars_flat[3,:].reshape((data.shape[0], data.shape[1], data.shape[2]))[:,:,0].get())"
   ]
  },
  {
   "cell_type": "code",
   "execution_count": 7,
   "metadata": {},
   "outputs": [],
   "source": [
    "do_full_plot = False"
   ]
  },
  {
   "cell_type": "code",
   "execution_count": 8,
   "metadata": {},
   "outputs": [],
   "source": [
    "# lower_bound[0,:] = 0\n",
    "# upper_bound[0,:] = 25000\n",
    "\n",
    "# lower_bound[1,:] = 0.001\n",
    "# upper_bound[1,:] = 0.999\n",
    "\n",
    "# lower_bound[2,:] = 1e-6\n",
    "# upper_bound[2,:] = 0.1\n",
    "\n",
    "# lower_bound[3,:] = 1e-8\n",
    "# upper_bound[3,:] = 0.02\n",
    "\n",
    "lower_bound[0,:] = cp.maximum(cp.array(pars_flat[0,:]) / 2, 500)\n",
    "upper_bound[0,:] = cp.minimum(cp.array(pars_flat[0,:]) * 2, 20000)\n",
    "\n",
    "lower_bound[1,:] = cp.maximum(cp.array(pars_flat[1,:]) - 0.4, 0.001)\n",
    "upper_bound[1,:] = cp.minimum(cp.array(pars_flat[1,:]) + 0.4, 0.999)\n",
    "\n",
    "lower_bound[2,:] = cp.maximum(cp.array(pars_flat[2,:]) / 200.0, 1e-6)\n",
    "upper_bound[2,:] = cp.minimum(cp.array(pars_flat[2,:]) * 200.0, 0.1)\n",
    "\n",
    "lower_bound[3,:] = cp.maximum(cp.array(pars_flat[3,:]) / 200.0, 1e-8)\n",
    "upper_bound[3,:] = cp.minimum(cp.array(pars_flat[3,:]) * 200.0, 0.02)\n"
   ]
  },
  {
   "cell_type": "code",
   "execution_count": 9,
   "metadata": {},
   "outputs": [],
   "source": [
    "from pycompute.cuda import lsqnonlin as clsqn\n",
    "importlib.reload(clsqn)\n",
    "\n",
    "expr = 'S0*(f*exp(-b*D_1)+(1-f)*exp(-b*D_2))'\n",
    "pars_str = ['S0', 'f', 'D_1', 'D_2']\n",
    "consts_str = ['b']\n",
    "\n",
    "constscu = cp.array(consts_flat, dtype=cp.float32, copy=True, order='C')\n",
    "datacu = cp.array(data_flat, dtype=cp.float32, copy=True, order='C')\n",
    "lower_bound_cu = cp.array(lower_bound, dtype=cp.float32, copy=True, order='C')\n",
    "upper_bound_cu = cp.array(upper_bound, dtype=cp.float32, copy=True, order='C')\n",
    "\n",
    "solm = clsqn.RandomSearch(expr, pars_str, consts_str, ndata, cp.float32, write_to_file=True)\n",
    "solm.setup(constscu, datacu, lower_bound_cu, upper_bound_cu)\n",
    "solm.run(500)\n",
    "\n",
    "pars_flat = solm.best_pars_t"
   ]
  },
  {
   "cell_type": "code",
   "execution_count": 10,
   "metadata": {},
   "outputs": [],
   "source": [
    "from pycompute.cuda import lsqnonlin as clsqn\n",
    "importlib.reload(clsqn)\n",
    "\n",
    "expr = 'S0*(f*exp(-b*D_1)+(1-f)*exp(-b*D_2))'\n",
    "pars_str = ['S0', 'f', 'D_1', 'D_2']\n",
    "consts_str = ['b']\n",
    "\n",
    "constscu = cp.array(consts_flat, dtype=cp.float32, copy=True, order='C')\n",
    "datacu = cp.array(data_flat, dtype=cp.float32, copy=True, order='C')\n",
    "lower_bound_cu = cp.array(lower_bound, dtype=cp.float32, copy=True, order='C')\n",
    "upper_bound_cu = cp.array(upper_bound, dtype=cp.float32, copy=True, order='C')\n",
    "\n",
    "solm = clsqn.SecondOrderRandomSearch(expr, pars_str, consts_str, ndata, cp.float32, write_to_file=True)\n",
    "solm.setup(constscu, datacu, lower_bound_cu, upper_bound_cu)\n",
    "solm.run(100, lm_iters=10)\n",
    "\n",
    "pars_flat = solm.best_pars_t"
   ]
  },
  {
   "cell_type": "code",
   "execution_count": 11,
   "metadata": {},
   "outputs": [],
   "source": [
    "if do_full_plot:\n",
    "\tpu.plot_matrix(pars_flat[0,:].reshape((data.shape[0], data.shape[1], data.shape[2]))[:,:,0].get())\n",
    "\ttime.sleep(0.1)\n",
    "\tpu.plot_matrix(pars_flat[1,:].reshape((data.shape[0], data.shape[1], data.shape[2]))[:,:,0].get())\n",
    "\tpu.plot_matrix(pars_flat[2,:].reshape((data.shape[0], data.shape[1], data.shape[2]))[:,:,0].get())\n",
    "\tpu.plot_matrix(pars_flat[3,:].reshape((data.shape[0], data.shape[1], data.shape[2]))[:,:,0].get())"
   ]
  },
  {
   "cell_type": "code",
   "execution_count": 12,
   "metadata": {},
   "outputs": [],
   "source": [
    "if do_full_plot:\n",
    "\timportlib.reload(pu)\n",
    "\n",
    "\tplotposx = round(data.shape[0]/2)+30\n",
    "\tplotposy = round(data.shape[1]/2)+10\n",
    "\n",
    "\tpars_to_plot = pars_flat.reshape((nparam, data.shape[0], data.shape[1], data.shape[2]))[:,plotposx,plotposy,0].get()\n",
    "\tpars_dipy_to_plot = pars_dipy[plotposx,plotposy,0,:]\n",
    "\tdata_to_plot = np.reshape(data[plotposx,plotposy,0,:], (1,21))\n",
    "\tprint('pars:        ', pars_to_plot)\n",
    "\tprint('pars_dipy:   ', pars_dipy_to_plot)\n",
    "\tprint('data:        ', data_to_plot)\n",
    "\tprint('lower_bound: ', lower_bound.reshape((nparam, data.shape[0], data.shape[1], data.shape[2]))[:,plotposx,plotposy,0])\n",
    "\tprint('upper_bound: ', upper_bound.reshape((nparam, data.shape[0], data.shape[1], data.shape[2]))[:,plotposx,plotposy,0])\n",
    "\n",
    "\tf1 = pu.plot_curve_fit(pu.ivim_curve_plot_expr(), pars_to_plot, consts.reshape((1,21)), data_to_plot)\n",
    "\tf2 = pu.plot_curve_fit(pu.ivim_curve_plot_expr(), pars_dipy_to_plot, consts.reshape((1,21)), data_to_plot)\n",
    "\n",
    "\tprint(f1)\n",
    "\tprint(f2)\n"
   ]
  },
  {
   "cell_type": "code",
   "execution_count": 13,
   "metadata": {},
   "outputs": [],
   "source": [
    "if do_full_plot:\n",
    "\timportlib.reload(pu)\n",
    "\n",
    "\tmask = data[:,:,:,0] > 3000\n",
    "\t#pu.plot_matrix(mask[:,:,10].astype(np.float32))\n",
    "\tpu.animate_matrix(mask.astype(np.float32), fps=10)\n"
   ]
  },
  {
   "cell_type": "code",
   "execution_count": 14,
   "metadata": {},
   "outputs": [
    {
     "name": "stdout",
     "output_type": "stream",
     "text": [
      "It took: 0.7992308139801025 s\n"
     ]
    }
   ],
   "source": [
    "from pycompute.cuda import lsqnonlin as clsqn\n",
    "importlib.reload(clsqn)\n",
    "\n",
    "expr = 'S0*(f*exp(-b*D_1)+(1-f)*exp(-b*D_2))'\n",
    "pars_str = ['S0', 'f', 'D_1', 'D_2']\n",
    "consts_str = ['b']\n",
    "\n",
    "first_f = np.empty((1, nvoxels), dtype=np.float32)\n",
    "last_f = np.empty((1, nvoxels), dtype=np.float32)\n",
    "\n",
    "solm = clsqn.SecondOrderLevenbergMarquardt(expr, pars_str, consts_str, ndata=ndata, dtype=cp.float32, write_to_file=True)\n",
    "\n",
    "start = time.time()\n",
    "\n",
    "parscu = cp.array(pars_flat, dtype=cp.float32, copy=True, order='C')\n",
    "constscu = cp.array(consts_flat, dtype=cp.float32, copy=True, order='C')\n",
    "datacu = cp.array(data_flat, dtype=cp.float32, copy=True, order='C')\n",
    "lower_bound_cu = cp.array(lower_bound, dtype=cp.float32, copy=True, order='C')\n",
    "upper_bound_cu = cp.array(upper_bound, dtype=cp.float32, copy=True, order='C')\n",
    "\n",
    "solm.setup(parscu, constscu, datacu, lower_bound_cu, upper_bound_cu)\n",
    "parscu = solm.run(50, 1e-10)\n",
    "\n",
    "cp.cuda.stream.get_current_stream().synchronize()\n",
    "end = time.time()\n",
    "\n",
    "first_f = solm.first_f.get()\n",
    "last_f = solm.last_f.get()\n",
    "\n",
    "pars_flat = solm.pars_t.get()\n",
    "\n",
    "print('It took: ' + str(end - start) + ' s')"
   ]
  },
  {
   "cell_type": "code",
   "execution_count": 15,
   "metadata": {},
   "outputs": [],
   "source": [
    "if do_full_plot:\n",
    "\tffig1 = plt.figure()\n",
    "\tfax1 = ffig1.add_axes([0,0,1,1])\n",
    "\tffigdata1 = fax1.imshow(np.reshape(first_f, (data.shape[0], data.shape[1], data.shape[2]))[:,:,0])\n",
    "\tfax1.set_title('First Objective Functions')\n",
    "\tffigdata1.set_clim(0.0, 1e9)\n",
    "\tffig1.colorbar(ffigdata1, ax=fax1)\n",
    "\n",
    "\tffig2 = plt.figure()\n",
    "\tfax2 = ffig2.add_axes([0,0,1,1])\n",
    "\tffigdata2 = fax2.imshow(np.reshape(last_f, (data.shape[0], data.shape[1], data.shape[2]))[:,:,0])\n",
    "\tfax2.set_title('Last Objective Functions')\n",
    "\tffigdata2.set_clim(0.0, 1e9)\n",
    "\tffig2.colorbar(ffigdata2, ax=fax2)\n",
    "\n",
    "\tffig3 = plt.figure()\n",
    "\tfax3 = ffig3.add_axes([0,0,1,1])\n",
    "\tffigdata3 = fax3.imshow(np.sqrt(np.reshape(solm.step_type_t.get().astype(np.float32), (data.shape[0], data.shape[1], data.shape[2]))[:,:,0]))\n",
    "\tfax3.set_title('StepType')\n",
    "\tffigdata3.set_clim(0, 4)\n",
    "\tffig3.colorbar(ffigdata3, ax=fax3)"
   ]
  },
  {
   "cell_type": "code",
   "execution_count": null,
   "metadata": {},
   "outputs": [],
   "source": []
  },
  {
   "cell_type": "code",
   "execution_count": 16,
   "metadata": {},
   "outputs": [],
   "source": [
    "pars_flat_back = np.transpose(np.reshape(pars_flat, (4, data.shape[0], data.shape[1], data.shape[2])), (1,2,3,0))\n"
   ]
  },
  {
   "cell_type": "code",
   "execution_count": 17,
   "metadata": {},
   "outputs": [],
   "source": [
    "gemask = pars_flat_back[:,:,:,2] < pars_flat_back[:,:,:,3]\n",
    "\n",
    "temp = pars_flat_back[gemask, 2].copy()\n",
    "pars_flat_back[gemask, 2] = pars_flat_back[gemask, 3].copy()\n",
    "pars_flat_back[gemask, 3] = temp.copy()\n",
    "pars_flat_back[gemask, 1] = 1 - pars_flat_back[gemask, 1]\n"
   ]
  },
  {
   "cell_type": "code",
   "execution_count": 18,
   "metadata": {},
   "outputs": [],
   "source": [
    "if do_full_plot:\n",
    "\t#param_printer(pars, print_S0=True)\n",
    "\tpu.param_plotter(pars_dipy, slicez=0, clim=[0.0, 16000], viewport=[[0.0, 1.0],[0.0, 1.0]], pars_idx=[0])\n",
    "\n",
    "\tpu.param_plotter(pars_flat_back, slicez=0, clim=[0.0, 16000], viewport=[[0.0, 1.0],[0.0, 1.0]], pars_idx=[0])\n"
   ]
  },
  {
   "cell_type": "code",
   "execution_count": 19,
   "metadata": {},
   "outputs": [],
   "source": [
    "if do_full_plot:\n",
    "\t#param_printer(pars, print_S0=True)\n",
    "\tpu.param_plotter(pars_dipy, slicez=0, clim=[0.0, 1.0], viewport=[[0.0, 1.0],[0.0, 1.0]], pars_idx=[1])\n",
    "\n",
    "\tpu.param_plotter(pars_flat_back, slicez=0, clim=[0.0, 1.0], viewport=[[0.0, 1.0],[0.0, 1.0]], pars_idx=[1])\n"
   ]
  },
  {
   "cell_type": "code",
   "execution_count": 20,
   "metadata": {},
   "outputs": [],
   "source": [
    "if do_full_plot:\n",
    "\t#param_printer(pars, print_S0=True)\n",
    "\tpu.param_plotter(pars_dipy, slicez=0, clim=[0.0, 0.5], viewport=[[0.0, 1.0],[0.0, 1.0]], pars_idx=[2])\n",
    "\n",
    "\tpu.param_plotter(pars_flat_back, slicez=0, clim=[0.0, 0.5], viewport=[[0.0, 1.0],[0.0, 1.0]], pars_idx=[2])"
   ]
  },
  {
   "cell_type": "code",
   "execution_count": 21,
   "metadata": {},
   "outputs": [],
   "source": [
    "if do_full_plot:\n",
    "\t#param_printer(pars, print_S0=True)\n",
    "\tpu.param_plotter(pars_dipy, slicez=0, clim=[0.0, 0.01], viewport=[[0.0, 1.0],[0.0, 1.0]], pars_idx=[3])\n",
    "\n",
    "\tpu.param_plotter(pars_flat_back, slicez=0, clim=[0.0, 0.01], viewport=[[0.0, 1.0],[0.0, 1.0]], pars_idx=[3])\n"
   ]
  },
  {
   "cell_type": "code",
   "execution_count": 22,
   "metadata": {},
   "outputs": [],
   "source": [
    "if do_full_plot:\n",
    "\timportlib.reload(pu)\n",
    "\n",
    "\tplotposx = round(data.shape[0]/2)+10\n",
    "\tplotposy = round(data.shape[1]/2)+20\n",
    "\n",
    "\tpars_to_plot = pars_flat_back[plotposx,plotposy,0,:]\n",
    "\tpars_dipy_to_plot = pars_dipy[plotposx,plotposy,0,:]\n",
    "\tdata_to_plot = np.reshape(data[plotposx,plotposy,0,:], (1,21))\n",
    "\tprint('pars:      ', pars_to_plot)\n",
    "\tprint('pars_dipy: ', pars_dipy_to_plot)\n",
    "\tprint(data_to_plot)\n",
    "\n",
    "\tf1 = pu.plot_curve_fit(pu.ivim_curve_plot_expr(), pars_to_plot, consts.reshape((1,21)), data_to_plot, bounds=[0,450])\n",
    "\tf2 = pu.plot_curve_fit(pu.ivim_curve_plot_expr(), pars_dipy_to_plot, consts.reshape((1,21)), data_to_plot, bounds=[0,450])\n",
    "\n",
    "\tprint(f1)\n",
    "\tprint(f2)\n"
   ]
  },
  {
   "cell_type": "code",
   "execution_count": 23,
   "metadata": {},
   "outputs": [],
   "source": [
    "if do_full_plot:\n",
    "\timportlib.reload(pu)\n",
    "\n",
    "\tplotposx = round(data.shape[0]/2)\n",
    "\tplotposy = round(data.shape[1]/2)\n",
    "\n",
    "\tpars_to_plot = pars_flat_back[plotposx,plotposy,0,:]\n",
    "\tpars_dipy_to_plot = pars_dipy[plotposx,plotposy,0,:]\n",
    "\tdata_to_plot = np.reshape(data[plotposx,plotposy,0,:], (1,21))\n",
    "\n",
    "\tprint('pars: ', pars_to_plot)\n",
    "\tprint('pars_dipy: ', pars_dipy_to_plot)\n",
    "\tprint(data_to_plot)\n",
    "\n",
    "\tpu.plot_curve_fit(pu.ivim_curve_plot_expr(), pars_to_plot, consts.reshape((1,21)), data_to_plot)\n",
    "\tpu.plot_curve_fit(pu.ivim_curve_plot_expr(), pars_dipy_to_plot, consts.reshape((1,21)), data_to_plot)"
   ]
  },
  {
   "cell_type": "code",
   "execution_count": 24,
   "metadata": {},
   "outputs": [],
   "source": [
    "from pycompute.cuda.lsqnonlin import F\n",
    "\n",
    "expr = 'S0*(f*exp(-b*D_1)+(1-f)*exp(-b*D_2))'\n",
    "pars_str = ['S0', 'f', 'D_1', 'D_2']\n",
    "consts_str = ['b']\n",
    "\n",
    "pars_to_f = np.transpose(pars_flat_back, (3,0,1,2)).flatten().reshape((nparam, nvoxels), order='C')\n",
    "pars_to_f_dipy = np.transpose(pars_dipy, (3,0,1,2)).flatten().reshape((nparam, nvoxels), order='C')\n",
    "\n",
    "parscu_f = cp.array(pars_to_f, dtype=cp.float32, copy=True, order='C')\n",
    "constscu = cp.array(consts_flat, dtype=cp.float32, copy=True, order='C')\n",
    "datacu = cp.array(data_flat, dtype=cp.float32, copy=True, order='C')\n",
    "\n",
    "f_val = cp.empty((1,nvoxels), dtype=cp.float32, order='C')\n",
    "\n",
    "step_type = cp.ones((1), dtype=cp.int32, order='C')\n",
    "\n",
    "fobj = F(expr, pars_str, consts_str, 21, cp.float32)\n",
    "fobj.run(parscu_f, constscu, datacu, step_type, f_val)\n",
    "\n",
    "f_val_np = cp.nan_to_num(f_val, nan=0.0, posinf=0.0, neginf=0.0).get()\n",
    "\n",
    "del fobj\n",
    "fobj = F(expr, pars_str, consts_str, 21, cp.float32)\n",
    "\n",
    "parscu_f = cp.array(pars_to_f_dipy, dtype=cp.float32, copy=True, order='C')\n",
    "\n",
    "fobj.run(parscu_f, constscu, datacu, step_type, f_val)\n",
    "\n",
    "f_val_dipy_np = cp.nan_to_num(f_val, nan=0.0, posinf=0.0, neginf=0.0).get()\n",
    "\n",
    "f_back = np.transpose(np.reshape(f_val_np, (1, data.shape[0], data.shape[1], data.shape[2])), (1,2,3,0))\n",
    "\n",
    "f_back_dipy = np.transpose(np.reshape(f_val_dipy_np, (1, data.shape[0], data.shape[1], data.shape[2])), (1,2,3,0))\n"
   ]
  },
  {
   "cell_type": "code",
   "execution_count": 25,
   "metadata": {},
   "outputs": [
    {
     "name": "stdout",
     "output_type": "stream",
     "text": [
      "-1.1531507\n"
     ]
    }
   ],
   "source": [
    "print(np.sum(f_back[100:150,100:150,0]/1e10 - f_back_dipy[100:150,100:150,0]/1e10))"
   ]
  },
  {
   "cell_type": "code",
   "execution_count": 26,
   "metadata": {},
   "outputs": [
    {
     "data": {
      "image/png": "[encoded data removed]",
      "text/plain": [
       "<Figure size 640x480 with 2 Axes>"
      ]
     },
     "metadata": {},
     "output_type": "display_data"
    },
    {
     "data": {
      "image/png": "[encoded data removed]",
      "text/plain": [
       "<Figure size 640x480 with 2 Axes>"
      ]
     },
     "metadata": {},
     "output_type": "display_data"
    }
   ],
   "source": [
    "importlib.reload(pu)\n",
    "\n",
    "pu.plot_matrix(f_back[100:150,100:150,0], clim=[0,1e9])\n",
    "pu.plot_matrix(f_back_dipy[100:150,100:150,0], clim=[0,1e9])"
   ]
  }
 ],
 "metadata": {
  "kernelspec": {
   "display_name": "v39",
   "language": "python",
   "name": "python3"
  },
  "language_info": {
   "codemirror_mode": {
    "name": "ipython",
    "version": 3
   },
   "file_extension": ".py",
   "mimetype": "text/x-python",
   "name": "python",
   "nbconvert_exporter": "python",
   "pygments_lexer": "ipython3",
   "version": "3.9.15 (main, Nov 24 2022, 14:39:17) [MSC v.1916 64 bit (AMD64)]"
  },
  "orig_nbformat": 4,
  "vscode": {
   "interpreter": {
    "hash": "ffb2dc72e02fe577ce1c5e8f5ebb559f0f72ca339e88ba34b1224560a48ec744"
   }
  }
 },
 "nbformat": 4,
 "nbformat_minor": 2
}
