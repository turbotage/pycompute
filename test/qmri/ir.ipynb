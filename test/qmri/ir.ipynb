{
 "cells": [
  {
   "cell_type": "code",
   "execution_count": 4,
   "metadata": {},
   "outputs": [],
   "source": [
    "#%matplotlib widget\n",
    "\n",
    "# imports\n",
    "import sys\n",
    "import os\n",
    "sys.path.append(os.path.join(os.path.dirname(''), '..'))\n",
    "from testrun import test_runner\n",
    "test_runner()\n",
    "\n",
    "\n",
    "import numpy as np\n",
    "from numpy.lib.stride_tricks import as_strided\n",
    "import cupy as cp\n",
    "\n",
    "import math\n",
    "import time\n",
    "import importlib\n",
    "\n",
    "from matplotlib import pyplot as plt\n",
    "from mpl_toolkits.mplot3d import Axes3D\n",
    "\n",
    "from pycompute.plot import plot_utility as pu"
   ]
  },
  {
   "cell_type": "code",
   "execution_count": 5,
   "metadata": {},
   "outputs": [],
   "source": [
    "import nibabel as nb"
   ]
  },
  {
   "cell_type": "code",
   "execution_count": 16,
   "metadata": {},
   "outputs": [],
   "source": [
    "fa2 = nb.load('../data/fa2.nii')\n",
    "fa5 = nb.load('../data/fa5.nii')\n",
    "fa10 = nb.load('../data/fa10.nii')\n",
    "\n",
    "fa2data = fa2.get_fdata()\n",
    "fa5data = fa5.get_fdata()\n",
    "fa10data = fa10.get_fdata()\n",
    "\n",
    "fa2data = np.reshape(fa2data, (fa2data.shape[0], fa2data.shape[1]))\n",
    "fa5data = np.reshape(fa5data, (fa5data.shape[0], fa5data.shape[1]))\n",
    "fa10data = np.reshape(fa10data, (fa10data.shape[0], fa10data.shape[1]))\n",
    "\n",
    "ndata = 3\n",
    "nx = fa2data.shape[0]\n",
    "ny = fa2data.shape[1]\n",
    "nvoxels = nx * ny\n",
    "\n",
    "fadata = np.stack([fa2data, fa10data, fa10data], axis = 0)\n",
    "\n",
    "fadata_flat = fadata.flatten().reshape((ndata, nvoxels), order='C')\n"
   ]
  },
  {
   "cell_type": "code",
   "execution_count": 17,
   "metadata": {},
   "outputs": [
    {
     "name": "stdout",
     "output_type": "stream",
     "text": [
      "(3, 256, 256)\n",
      "550.0\n",
      "550.0\n"
     ]
    }
   ],
   "source": [
    "print(fadata.shape)\n",
    "# Check correct C order\n",
    "print(fadata[1,100,12])\n",
    "print(fadata_flat[1,(100*nx + 12)])"
   ]
  },
  {
   "cell_type": "code",
   "execution_count": 19,
   "metadata": {},
   "outputs": [],
   "source": [
    "consts = np.array([2.0, 5.0, 10.0]).reshape((1,ndata,1))\n",
    "consts_flat = np.tile(consts, (1, 1, nvoxels)).reshape((1,ndata,nvoxels), order='C')"
   ]
  }
 ],
 "metadata": {
  "kernelspec": {
   "display_name": "v311",
   "language": "python",
   "name": "python3"
  },
  "language_info": {
   "codemirror_mode": {
    "name": "ipython",
    "version": 3
   },
   "file_extension": ".py",
   "mimetype": "text/x-python",
   "name": "python",
   "nbconvert_exporter": "python",
   "pygments_lexer": "ipython3",
   "version": "3.11.0"
  },
  "orig_nbformat": 4,
  "vscode": {
   "interpreter": {
    "hash": "d651278650b92f5524b7db532566c9731a43e5368a9ad3e41a27b6ef5510f432"
   }
  }
 },
 "nbformat": 4,
 "nbformat_minor": 2
}
